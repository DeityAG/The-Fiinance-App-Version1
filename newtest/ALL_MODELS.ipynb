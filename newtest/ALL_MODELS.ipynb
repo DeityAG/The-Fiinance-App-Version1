{
  "nbformat": 4,
  "nbformat_minor": 0,
  "metadata": {
    "colab": {
      "provenance": []
    },
    "kernelspec": {
      "name": "python3",
      "display_name": "Python 3"
    },
    "language_info": {
      "name": "python"
    }
  },
  "cells": [
    {
      "cell_type": "code",
      "execution_count": 1,
      "metadata": {
        "id": "iS80iUUK7KV5"
      },
      "outputs": [],
      "source": [
        "\n",
        "import matplotlib.pyplot as plt\n",
        "import pickle\n",
        "import numpy as np\n",
        "import pandas as pd\n",
        "from sklearn.model_selection import train_test_split\n",
        "from sklearn.linear_model import LinearRegression\n",
        "from sklearn.metrics import mean_squared_error, r2_score\n"
      ]
    },
    {
      "cell_type": "code",
      "source": [
        "df = pd.read_csv('/content/dataset - dataset.csv')\n",
        "\n",
        "df\n"
      ],
      "metadata": {
        "colab": {
          "base_uri": "https://localhost:8080/",
          "height": 423
        },
        "id": "LWPHG0Uk8I4R",
        "outputId": "d9ce9a27-404d-472b-ceff-543fff0d3e14"
      },
      "execution_count": 63,
      "outputs": [
        {
          "output_type": "execute_result",
          "data": {
            "text/plain": [
              "    Year  Infilation      gold       bse  salary\n",
              "0   1961    0.021454  0.065555 -0.038047  0.1000\n",
              "1   1962    0.044056  0.087006 -0.173226  0.0909\n",
              "2   1963    0.083536  0.244007  0.136790  0.0417\n",
              "3   1964    0.085517  0.181688 -0.043198  0.0400\n",
              "4   1965    0.083004  0.106246 -0.213598  0.0769\n",
              "..   ...         ...       ...       ...     ...\n",
              "57  2018    0.038842  0.125077  0.059100  0.0323\n",
              "58  2019    0.024055 -0.027455  0.143800  0.0313\n",
              "59  2020    0.047465  0.054303  0.157400  0.0303\n",
              "60  2021    0.085385 -0.065716  0.219400  0.0294\n",
              "61  2022    0.082259 -0.019660  0.044500  0.0286\n",
              "\n",
              "[62 rows x 5 columns]"
            ],
            "text/html": [
              "\n",
              "  <div id=\"df-34743ca3-aa53-4976-9f1c-c59102c2de5e\" class=\"colab-df-container\">\n",
              "    <div>\n",
              "<style scoped>\n",
              "    .dataframe tbody tr th:only-of-type {\n",
              "        vertical-align: middle;\n",
              "    }\n",
              "\n",
              "    .dataframe tbody tr th {\n",
              "        vertical-align: top;\n",
              "    }\n",
              "\n",
              "    .dataframe thead th {\n",
              "        text-align: right;\n",
              "    }\n",
              "</style>\n",
              "<table border=\"1\" class=\"dataframe\">\n",
              "  <thead>\n",
              "    <tr style=\"text-align: right;\">\n",
              "      <th></th>\n",
              "      <th>Year</th>\n",
              "      <th>Infilation</th>\n",
              "      <th>gold</th>\n",
              "      <th>bse</th>\n",
              "      <th>salary</th>\n",
              "    </tr>\n",
              "  </thead>\n",
              "  <tbody>\n",
              "    <tr>\n",
              "      <th>0</th>\n",
              "      <td>1961</td>\n",
              "      <td>0.021454</td>\n",
              "      <td>0.065555</td>\n",
              "      <td>-0.038047</td>\n",
              "      <td>0.1000</td>\n",
              "    </tr>\n",
              "    <tr>\n",
              "      <th>1</th>\n",
              "      <td>1962</td>\n",
              "      <td>0.044056</td>\n",
              "      <td>0.087006</td>\n",
              "      <td>-0.173226</td>\n",
              "      <td>0.0909</td>\n",
              "    </tr>\n",
              "    <tr>\n",
              "      <th>2</th>\n",
              "      <td>1963</td>\n",
              "      <td>0.083536</td>\n",
              "      <td>0.244007</td>\n",
              "      <td>0.136790</td>\n",
              "      <td>0.0417</td>\n",
              "    </tr>\n",
              "    <tr>\n",
              "      <th>3</th>\n",
              "      <td>1964</td>\n",
              "      <td>0.085517</td>\n",
              "      <td>0.181688</td>\n",
              "      <td>-0.043198</td>\n",
              "      <td>0.0400</td>\n",
              "    </tr>\n",
              "    <tr>\n",
              "      <th>4</th>\n",
              "      <td>1965</td>\n",
              "      <td>0.083004</td>\n",
              "      <td>0.106246</td>\n",
              "      <td>-0.213598</td>\n",
              "      <td>0.0769</td>\n",
              "    </tr>\n",
              "    <tr>\n",
              "      <th>...</th>\n",
              "      <td>...</td>\n",
              "      <td>...</td>\n",
              "      <td>...</td>\n",
              "      <td>...</td>\n",
              "      <td>...</td>\n",
              "    </tr>\n",
              "    <tr>\n",
              "      <th>57</th>\n",
              "      <td>2018</td>\n",
              "      <td>0.038842</td>\n",
              "      <td>0.125077</td>\n",
              "      <td>0.059100</td>\n",
              "      <td>0.0323</td>\n",
              "    </tr>\n",
              "    <tr>\n",
              "      <th>58</th>\n",
              "      <td>2019</td>\n",
              "      <td>0.024055</td>\n",
              "      <td>-0.027455</td>\n",
              "      <td>0.143800</td>\n",
              "      <td>0.0313</td>\n",
              "    </tr>\n",
              "    <tr>\n",
              "      <th>59</th>\n",
              "      <td>2020</td>\n",
              "      <td>0.047465</td>\n",
              "      <td>0.054303</td>\n",
              "      <td>0.157400</td>\n",
              "      <td>0.0303</td>\n",
              "    </tr>\n",
              "    <tr>\n",
              "      <th>60</th>\n",
              "      <td>2021</td>\n",
              "      <td>0.085385</td>\n",
              "      <td>-0.065716</td>\n",
              "      <td>0.219400</td>\n",
              "      <td>0.0294</td>\n",
              "    </tr>\n",
              "    <tr>\n",
              "      <th>61</th>\n",
              "      <td>2022</td>\n",
              "      <td>0.082259</td>\n",
              "      <td>-0.019660</td>\n",
              "      <td>0.044500</td>\n",
              "      <td>0.0286</td>\n",
              "    </tr>\n",
              "  </tbody>\n",
              "</table>\n",
              "<p>62 rows × 5 columns</p>\n",
              "</div>\n",
              "    <div class=\"colab-df-buttons\">\n",
              "\n",
              "  <div class=\"colab-df-container\">\n",
              "    <button class=\"colab-df-convert\" onclick=\"convertToInteractive('df-34743ca3-aa53-4976-9f1c-c59102c2de5e')\"\n",
              "            title=\"Convert this dataframe to an interactive table.\"\n",
              "            style=\"display:none;\">\n",
              "\n",
              "  <svg xmlns=\"http://www.w3.org/2000/svg\" height=\"24px\" viewBox=\"0 -960 960 960\">\n",
              "    <path d=\"M120-120v-720h720v720H120Zm60-500h600v-160H180v160Zm220 220h160v-160H400v160Zm0 220h160v-160H400v160ZM180-400h160v-160H180v160Zm440 0h160v-160H620v160ZM180-180h160v-160H180v160Zm440 0h160v-160H620v160Z\"/>\n",
              "  </svg>\n",
              "    </button>\n",
              "\n",
              "  <style>\n",
              "    .colab-df-container {\n",
              "      display:flex;\n",
              "      gap: 12px;\n",
              "    }\n",
              "\n",
              "    .colab-df-convert {\n",
              "      background-color: #E8F0FE;\n",
              "      border: none;\n",
              "      border-radius: 50%;\n",
              "      cursor: pointer;\n",
              "      display: none;\n",
              "      fill: #1967D2;\n",
              "      height: 32px;\n",
              "      padding: 0 0 0 0;\n",
              "      width: 32px;\n",
              "    }\n",
              "\n",
              "    .colab-df-convert:hover {\n",
              "      background-color: #E2EBFA;\n",
              "      box-shadow: 0px 1px 2px rgba(60, 64, 67, 0.3), 0px 1px 3px 1px rgba(60, 64, 67, 0.15);\n",
              "      fill: #174EA6;\n",
              "    }\n",
              "\n",
              "    .colab-df-buttons div {\n",
              "      margin-bottom: 4px;\n",
              "    }\n",
              "\n",
              "    [theme=dark] .colab-df-convert {\n",
              "      background-color: #3B4455;\n",
              "      fill: #D2E3FC;\n",
              "    }\n",
              "\n",
              "    [theme=dark] .colab-df-convert:hover {\n",
              "      background-color: #434B5C;\n",
              "      box-shadow: 0px 1px 3px 1px rgba(0, 0, 0, 0.15);\n",
              "      filter: drop-shadow(0px 1px 2px rgba(0, 0, 0, 0.3));\n",
              "      fill: #FFFFFF;\n",
              "    }\n",
              "  </style>\n",
              "\n",
              "    <script>\n",
              "      const buttonEl =\n",
              "        document.querySelector('#df-34743ca3-aa53-4976-9f1c-c59102c2de5e button.colab-df-convert');\n",
              "      buttonEl.style.display =\n",
              "        google.colab.kernel.accessAllowed ? 'block' : 'none';\n",
              "\n",
              "      async function convertToInteractive(key) {\n",
              "        const element = document.querySelector('#df-34743ca3-aa53-4976-9f1c-c59102c2de5e');\n",
              "        const dataTable =\n",
              "          await google.colab.kernel.invokeFunction('convertToInteractive',\n",
              "                                                    [key], {});\n",
              "        if (!dataTable) return;\n",
              "\n",
              "        const docLinkHtml = 'Like what you see? Visit the ' +\n",
              "          '<a target=\"_blank\" href=https://colab.research.google.com/notebooks/data_table.ipynb>data table notebook</a>'\n",
              "          + ' to learn more about interactive tables.';\n",
              "        element.innerHTML = '';\n",
              "        dataTable['output_type'] = 'display_data';\n",
              "        await google.colab.output.renderOutput(dataTable, element);\n",
              "        const docLink = document.createElement('div');\n",
              "        docLink.innerHTML = docLinkHtml;\n",
              "        element.appendChild(docLink);\n",
              "      }\n",
              "    </script>\n",
              "  </div>\n",
              "\n",
              "\n",
              "<div id=\"df-715d8cf9-5a45-4e6f-a88c-1a3e892617c6\">\n",
              "  <button class=\"colab-df-quickchart\" onclick=\"quickchart('df-715d8cf9-5a45-4e6f-a88c-1a3e892617c6')\"\n",
              "            title=\"Suggest charts\"\n",
              "            style=\"display:none;\">\n",
              "\n",
              "<svg xmlns=\"http://www.w3.org/2000/svg\" height=\"24px\"viewBox=\"0 0 24 24\"\n",
              "     width=\"24px\">\n",
              "    <g>\n",
              "        <path d=\"M19 3H5c-1.1 0-2 .9-2 2v14c0 1.1.9 2 2 2h14c1.1 0 2-.9 2-2V5c0-1.1-.9-2-2-2zM9 17H7v-7h2v7zm4 0h-2V7h2v10zm4 0h-2v-4h2v4z\"/>\n",
              "    </g>\n",
              "</svg>\n",
              "  </button>\n",
              "\n",
              "<style>\n",
              "  .colab-df-quickchart {\n",
              "      --bg-color: #E8F0FE;\n",
              "      --fill-color: #1967D2;\n",
              "      --hover-bg-color: #E2EBFA;\n",
              "      --hover-fill-color: #174EA6;\n",
              "      --disabled-fill-color: #AAA;\n",
              "      --disabled-bg-color: #DDD;\n",
              "  }\n",
              "\n",
              "  [theme=dark] .colab-df-quickchart {\n",
              "      --bg-color: #3B4455;\n",
              "      --fill-color: #D2E3FC;\n",
              "      --hover-bg-color: #434B5C;\n",
              "      --hover-fill-color: #FFFFFF;\n",
              "      --disabled-bg-color: #3B4455;\n",
              "      --disabled-fill-color: #666;\n",
              "  }\n",
              "\n",
              "  .colab-df-quickchart {\n",
              "    background-color: var(--bg-color);\n",
              "    border: none;\n",
              "    border-radius: 50%;\n",
              "    cursor: pointer;\n",
              "    display: none;\n",
              "    fill: var(--fill-color);\n",
              "    height: 32px;\n",
              "    padding: 0;\n",
              "    width: 32px;\n",
              "  }\n",
              "\n",
              "  .colab-df-quickchart:hover {\n",
              "    background-color: var(--hover-bg-color);\n",
              "    box-shadow: 0 1px 2px rgba(60, 64, 67, 0.3), 0 1px 3px 1px rgba(60, 64, 67, 0.15);\n",
              "    fill: var(--button-hover-fill-color);\n",
              "  }\n",
              "\n",
              "  .colab-df-quickchart-complete:disabled,\n",
              "  .colab-df-quickchart-complete:disabled:hover {\n",
              "    background-color: var(--disabled-bg-color);\n",
              "    fill: var(--disabled-fill-color);\n",
              "    box-shadow: none;\n",
              "  }\n",
              "\n",
              "  .colab-df-spinner {\n",
              "    border: 2px solid var(--fill-color);\n",
              "    border-color: transparent;\n",
              "    border-bottom-color: var(--fill-color);\n",
              "    animation:\n",
              "      spin 1s steps(1) infinite;\n",
              "  }\n",
              "\n",
              "  @keyframes spin {\n",
              "    0% {\n",
              "      border-color: transparent;\n",
              "      border-bottom-color: var(--fill-color);\n",
              "      border-left-color: var(--fill-color);\n",
              "    }\n",
              "    20% {\n",
              "      border-color: transparent;\n",
              "      border-left-color: var(--fill-color);\n",
              "      border-top-color: var(--fill-color);\n",
              "    }\n",
              "    30% {\n",
              "      border-color: transparent;\n",
              "      border-left-color: var(--fill-color);\n",
              "      border-top-color: var(--fill-color);\n",
              "      border-right-color: var(--fill-color);\n",
              "    }\n",
              "    40% {\n",
              "      border-color: transparent;\n",
              "      border-right-color: var(--fill-color);\n",
              "      border-top-color: var(--fill-color);\n",
              "    }\n",
              "    60% {\n",
              "      border-color: transparent;\n",
              "      border-right-color: var(--fill-color);\n",
              "    }\n",
              "    80% {\n",
              "      border-color: transparent;\n",
              "      border-right-color: var(--fill-color);\n",
              "      border-bottom-color: var(--fill-color);\n",
              "    }\n",
              "    90% {\n",
              "      border-color: transparent;\n",
              "      border-bottom-color: var(--fill-color);\n",
              "    }\n",
              "  }\n",
              "</style>\n",
              "\n",
              "  <script>\n",
              "    async function quickchart(key) {\n",
              "      const quickchartButtonEl =\n",
              "        document.querySelector('#' + key + ' button');\n",
              "      quickchartButtonEl.disabled = true;  // To prevent multiple clicks.\n",
              "      quickchartButtonEl.classList.add('colab-df-spinner');\n",
              "      try {\n",
              "        const charts = await google.colab.kernel.invokeFunction(\n",
              "            'suggestCharts', [key], {});\n",
              "      } catch (error) {\n",
              "        console.error('Error during call to suggestCharts:', error);\n",
              "      }\n",
              "      quickchartButtonEl.classList.remove('colab-df-spinner');\n",
              "      quickchartButtonEl.classList.add('colab-df-quickchart-complete');\n",
              "    }\n",
              "    (() => {\n",
              "      let quickchartButtonEl =\n",
              "        document.querySelector('#df-715d8cf9-5a45-4e6f-a88c-1a3e892617c6 button');\n",
              "      quickchartButtonEl.style.display =\n",
              "        google.colab.kernel.accessAllowed ? 'block' : 'none';\n",
              "    })();\n",
              "  </script>\n",
              "</div>\n",
              "\n",
              "  <div id=\"id_597424cd-7abb-473c-bf15-04cbc7bf3725\">\n",
              "    <style>\n",
              "      .colab-df-generate {\n",
              "        background-color: #E8F0FE;\n",
              "        border: none;\n",
              "        border-radius: 50%;\n",
              "        cursor: pointer;\n",
              "        display: none;\n",
              "        fill: #1967D2;\n",
              "        height: 32px;\n",
              "        padding: 0 0 0 0;\n",
              "        width: 32px;\n",
              "      }\n",
              "\n",
              "      .colab-df-generate:hover {\n",
              "        background-color: #E2EBFA;\n",
              "        box-shadow: 0px 1px 2px rgba(60, 64, 67, 0.3), 0px 1px 3px 1px rgba(60, 64, 67, 0.15);\n",
              "        fill: #174EA6;\n",
              "      }\n",
              "\n",
              "      [theme=dark] .colab-df-generate {\n",
              "        background-color: #3B4455;\n",
              "        fill: #D2E3FC;\n",
              "      }\n",
              "\n",
              "      [theme=dark] .colab-df-generate:hover {\n",
              "        background-color: #434B5C;\n",
              "        box-shadow: 0px 1px 3px 1px rgba(0, 0, 0, 0.15);\n",
              "        filter: drop-shadow(0px 1px 2px rgba(0, 0, 0, 0.3));\n",
              "        fill: #FFFFFF;\n",
              "      }\n",
              "    </style>\n",
              "    <button class=\"colab-df-generate\" onclick=\"generateWithVariable('df')\"\n",
              "            title=\"Generate code using this dataframe.\"\n",
              "            style=\"display:none;\">\n",
              "\n",
              "  <svg xmlns=\"http://www.w3.org/2000/svg\" height=\"24px\"viewBox=\"0 0 24 24\"\n",
              "       width=\"24px\">\n",
              "    <path d=\"M7,19H8.4L18.45,9,17,7.55,7,17.6ZM5,21V16.75L18.45,3.32a2,2,0,0,1,2.83,0l1.4,1.43a1.91,1.91,0,0,1,.58,1.4,1.91,1.91,0,0,1-.58,1.4L9.25,21ZM18.45,9,17,7.55Zm-12,3A5.31,5.31,0,0,0,4.9,8.1,5.31,5.31,0,0,0,1,6.5,5.31,5.31,0,0,0,4.9,4.9,5.31,5.31,0,0,0,6.5,1,5.31,5.31,0,0,0,8.1,4.9,5.31,5.31,0,0,0,12,6.5,5.46,5.46,0,0,0,6.5,12Z\"/>\n",
              "  </svg>\n",
              "    </button>\n",
              "    <script>\n",
              "      (() => {\n",
              "      const buttonEl =\n",
              "        document.querySelector('#id_597424cd-7abb-473c-bf15-04cbc7bf3725 button.colab-df-generate');\n",
              "      buttonEl.style.display =\n",
              "        google.colab.kernel.accessAllowed ? 'block' : 'none';\n",
              "\n",
              "      buttonEl.onclick = () => {\n",
              "        google.colab.notebook.generateWithVariable('df');\n",
              "      }\n",
              "      })();\n",
              "    </script>\n",
              "  </div>\n",
              "\n",
              "    </div>\n",
              "  </div>\n"
            ],
            "application/vnd.google.colaboratory.intrinsic+json": {
              "type": "dataframe",
              "variable_name": "df",
              "summary": "{\n  \"name\": \"df\",\n  \"rows\": 62,\n  \"fields\": [\n    {\n      \"column\": \"Year\",\n      \"properties\": {\n        \"dtype\": \"number\",\n        \"std\": 18,\n        \"min\": 1961,\n        \"max\": 2022,\n        \"num_unique_values\": 62,\n        \"samples\": [\n          2011,\n          2017,\n          1961\n        ],\n        \"semantic_type\": \"\",\n        \"description\": \"\"\n      }\n    },\n    {\n      \"column\": \"Infilation\",\n      \"properties\": {\n        \"dtype\": \"number\",\n        \"std\": 0.03765476626048945,\n        \"min\": -0.01648681551,\n        \"max\": 0.1782971565,\n        \"num_unique_values\": 62,\n        \"samples\": [\n          0.08733580144,\n          0.03969257928,\n          0.02145427647\n        ],\n        \"semantic_type\": \"\",\n        \"description\": \"\"\n      }\n    },\n    {\n      \"column\": \"gold\",\n      \"properties\": {\n        \"dtype\": \"number\",\n        \"std\": 0.08774095216877689,\n        \"min\": -0.1511812467,\n        \"max\": 0.2440072532,\n        \"num_unique_values\": 62,\n        \"samples\": [\n          0.1379784719,\n          0.2256194599,\n          0.06555456541\n        ],\n        \"semantic_type\": \"\",\n        \"description\": \"\"\n      }\n    },\n    {\n      \"column\": \"bse\",\n      \"properties\": {\n        \"dtype\": \"number\",\n        \"std\": 0.2785522507223889,\n        \"min\": -0.5239,\n        \"max\": 0.9392,\n        \"num_unique_values\": 62,\n        \"samples\": [\n          -0.2461,\n          0.2785,\n          -0.03804744658\n        ],\n        \"semantic_type\": \"\",\n        \"description\": \"\"\n      }\n    },\n    {\n      \"column\": \"salary\",\n      \"properties\": {\n        \"dtype\": \"number\",\n        \"std\": 0.01489358622458999,\n        \"min\": 0.0286,\n        \"max\": 0.1,\n        \"num_unique_values\": 27,\n        \"samples\": [\n          0.0625,\n          0.0476,\n          0.0588\n        ],\n        \"semantic_type\": \"\",\n        \"description\": \"\"\n      }\n    }\n  ]\n}"
            }
          },
          "metadata": {},
          "execution_count": 63
        }
      ]
    },
    {
      "cell_type": "code",
      "source": [
        "x = df.iloc[:61, 0].values.reshape(-1, 1)  # Reshape x to make it 2D\n",
        "y = df.iloc[:61, 1].values.reshape(-1, 1)  # Reshape y to make it 2D"
      ],
      "metadata": {
        "id": "2k4NGHHu8rLJ"
      },
      "execution_count": 64,
      "outputs": []
    },
    {
      "cell_type": "code",
      "source": [
        "X_train, X_test, y_train, y_test = train_test_split(x, y, test_size = 0.2, random_state = 110)"
      ],
      "metadata": {
        "id": "lQEtJgr2-GyA"
      },
      "execution_count": 65,
      "outputs": []
    },
    {
      "cell_type": "code",
      "source": [
        "import pycaret"
      ],
      "metadata": {
        "id": "J5U_NzEa_CxW"
      },
      "execution_count": 8,
      "outputs": []
    },
    {
      "cell_type": "code",
      "source": [
        "# Training the linear regression model\n",
        "\n",
        "import numpy as np\n",
        "import pandas as pd\n",
        "from sklearn.metrics import accuracy_score, precision_score, recall_score, f1_score\n",
        "\n",
        "model = LinearRegression()\n",
        "model.fit(X_train, y_train)\n",
        "\n",
        "# Making predictions on the test set\n",
        "\n",
        "y_pred = model.predict(X_test)\n",
        "\n",
        "# # # Evaluating the model\n",
        "# # results = {}\n",
        "# # results['Logistic Regression'] = [accuracy_score(y_test, y_pred),\n",
        "# #                                   precision_score(y_test, y_pred, average='weighted'),\n",
        "# #                                   recall_score(y_test, y_pred, average='weighted'),\n",
        "# #                                   f1_score(y_test, y_pred, average='weighted')\n",
        "# #     ]\n",
        "# # df_results = pd.DataFrame.from_dict(results, orient='index', columns=['Accuracy', 'Precision', 'Recall', 'F1-Score', 'Training Time'])\n",
        "\n",
        "# # df_results\n",
        "# from sklearn.metrics import mean_squared_error\n",
        "\n",
        "# Calculate mean squared error\n",
        "mse = mean_squared_error(y_test, y_pred)\n",
        "print(\"Mean Squared Error (MSE):\", mse)"
      ],
      "metadata": {
        "colab": {
          "base_uri": "https://localhost:8080/"
        },
        "id": "PyRvvtCL_bs_",
        "outputId": "4c691d8f-34ae-4e57-bb4a-ae7cd6bc0882"
      },
      "execution_count": 70,
      "outputs": [
        {
          "output_type": "stream",
          "name": "stdout",
          "text": [
            "Mean Squared Error (MSE): 0.0023837304082487813\n"
          ]
        }
      ]
    },
    {
      "cell_type": "code",
      "source": [
        "y_pred"
      ],
      "metadata": {
        "colab": {
          "base_uri": "https://localhost:8080/"
        },
        "id": "xfeSuIsAArsu",
        "outputId": "4f56c8eb-2f94-4b70-f4a7-5261817f3e04"
      },
      "execution_count": 67,
      "outputs": [
        {
          "output_type": "execute_result",
          "data": {
            "text/plain": [
              "array([[0.07077756],\n",
              "       [0.06736854],\n",
              "       [0.06688153],\n",
              "       [0.07019316],\n",
              "       [0.06834254],\n",
              "       [0.06843995],\n",
              "       [0.06824514],\n",
              "       [0.07136197],\n",
              "       [0.07145937],\n",
              "       [0.07155677],\n",
              "       [0.06990096],\n",
              "       [0.06960875],\n",
              "       [0.06882955]])"
            ]
          },
          "metadata": {},
          "execution_count": 67
        }
      ]
    },
    {
      "cell_type": "code",
      "source": [
        "model.predict([[2024]])*100"
      ],
      "metadata": {
        "colab": {
          "base_uri": "https://localhost:8080/"
        },
        "id": "D00vFRFRKOyo",
        "outputId": "02ac28d1-0d2c-4cce-9fa7-c905e52e6ad3"
      },
      "execution_count": 71,
      "outputs": [
        {
          "output_type": "execute_result",
          "data": {
            "text/plain": [
              "array([[6.63945278]])"
            ]
          },
          "metadata": {},
          "execution_count": 71
        }
      ]
    },
    {
      "cell_type": "code",
      "source": [
        "with open('/content/inflation_precit.pkl', 'wb') as pickle_file:\n",
        "    pickle.dump(model, pickle_file)"
      ],
      "metadata": {
        "id": "rHnT3SxPK2cr"
      },
      "execution_count": 73,
      "outputs": []
    },
    {
      "cell_type": "code",
      "source": [
        "x_sal = df.iloc[:61, 0].values.reshape(-1, 1)  # Reshape x to make it 2D\n",
        "y_sal = df.iloc[:61, 4].values.reshape(-1, 1)  # Reshape y to make it 2D"
      ],
      "metadata": {
        "id": "eFGbx69XNMib"
      },
      "execution_count": 74,
      "outputs": []
    },
    {
      "cell_type": "code",
      "source": [
        "X_sal_train, X_sal_test, y_sal_train, y_sal_test = train_test_split(x_sal, y_sal, test_size = 0.2, random_state = 110)"
      ],
      "metadata": {
        "id": "Ks5kgG8_ObEX"
      },
      "execution_count": 79,
      "outputs": []
    },
    {
      "cell_type": "code",
      "source": [
        "model_sal = LinearRegression()\n",
        "model_sal.fit(X_sal_train, y_sal_train)\n",
        "\n",
        "# Making predictions on the test set\n",
        "\n",
        "y_sal_pred = model_sal.predict(X_sal_test)\n",
        "mse_sal = mean_squared_error(y_sal_test, y_sal_pred)\n",
        "print(\"Mean Squared Error (MSE):\", mse_sal)"
      ],
      "metadata": {
        "colab": {
          "base_uri": "https://localhost:8080/"
        },
        "id": "hEt-Nbn0OkEK",
        "outputId": "3f92b0b7-b524-4bfb-9bdd-dcd538fadfec"
      },
      "execution_count": 80,
      "outputs": [
        {
          "output_type": "stream",
          "name": "stdout",
          "text": [
            "Mean Squared Error (MSE): 0.00010414543938205977\n"
          ]
        }
      ]
    },
    {
      "cell_type": "code",
      "source": [
        "with open('/content/sallary.pkl', 'wb') as pickle_file:\n",
        "    pickle.dump(model_sal, pickle_file)"
      ],
      "metadata": {
        "id": "uBQdHo-SO1Fp"
      },
      "execution_count": 81,
      "outputs": []
    },
    {
      "cell_type": "code",
      "source": [
        "x_gold = df.iloc[:61, 0].values.reshape(-1, 1)  # Reshape x to make it 2D\n",
        "y_gold = df.iloc[:61, 2].values.reshape(-1, 1)  # Reshape y to make it 2D\n",
        "X_gold_train, X_gold_test, y_gold_train, y_gold_test = train_test_split(x_gold, y_gold, test_size = 0.2, random_state = 110)\n",
        "model_gold = LinearRegression()\n",
        "model_gold.fit(X_gold_train, y_gold_train)\n",
        "\n",
        "# Making predictions on the test set\n",
        "\n",
        "y_gold_pred = model_gold.predict(X_gold_test)\n",
        "mse_gold = mean_squared_error(y_gold_test,y_gold_pred)\n",
        "print(\"Mean Squared Error (MSE):\", mse_gold)"
      ],
      "metadata": {
        "colab": {
          "base_uri": "https://localhost:8080/"
        },
        "id": "k6yINHIbQHIq",
        "outputId": "15e54585-3b0b-44c8-bb37-838d50f296c4"
      },
      "execution_count": 83,
      "outputs": [
        {
          "output_type": "stream",
          "name": "stdout",
          "text": [
            "Mean Squared Error (MSE): 0.0062289885974622355\n"
          ]
        }
      ]
    },
    {
      "cell_type": "code",
      "source": [
        "with open('/content/gold.pkl', 'wb') as pickle_file:\n",
        "    pickle.dump(model_gold, pickle_file)"
      ],
      "metadata": {
        "id": "ePoz-9mvR_WU"
      },
      "execution_count": 84,
      "outputs": []
    },
    {
      "cell_type": "code",
      "source": [
        "model_gold.predict([[2024]])*100"
      ],
      "metadata": {
        "colab": {
          "base_uri": "https://localhost:8080/"
        },
        "id": "Rke4SBeSRklf",
        "outputId": "10eb09be-9a6e-4bca-e24e-c5b58b004f03"
      },
      "execution_count": 85,
      "outputs": [
        {
          "output_type": "execute_result",
          "data": {
            "text/plain": [
              "array([[4.15021339]])"
            ]
          },
          "metadata": {},
          "execution_count": 85
        }
      ]
    },
    {
      "cell_type": "code",
      "source": [
        "x_bse = df.iloc[:61, 0].values.reshape(-1, 1)  # Reshape x to make it 2D\n",
        "y_bse = df.iloc[:61, 3].values.reshape(-1, 1)  # Reshape y to make it 2D\n",
        "X_bse_train, X_bse_test, y_bse_train, y_bse_test = train_test_split(x_bse, y_bse, test_size = 0.2, random_state = 110)\n",
        "model_bse = LinearRegression()\n",
        "model_bse.fit(X_bse_train, y_bse_train)\n",
        "\n",
        "# Making predictions on the test set\n",
        "\n",
        "y_bse_pred = model_bse.predict(X_bse_test)\n",
        "mse_bse = mean_squared_error(y_bse_test,y_bse_pred)\n",
        "print(\"Mean Squared Error (MSE):\", mse_bse)"
      ],
      "metadata": {
        "colab": {
          "base_uri": "https://localhost:8080/"
        },
        "id": "GbKTYQysSfV_",
        "outputId": "fc97de46-3793-42ae-e79a-0138a8d0035a"
      },
      "execution_count": 88,
      "outputs": [
        {
          "output_type": "stream",
          "name": "stdout",
          "text": [
            "Mean Squared Error (MSE): 0.18027016132761367\n"
          ]
        }
      ]
    },
    {
      "cell_type": "code",
      "source": [
        "model_bse.predict([[2024]])*100"
      ],
      "metadata": {
        "colab": {
          "base_uri": "https://localhost:8080/"
        },
        "id": "AUy5C4g2TsIw",
        "outputId": "1942f0da-85f4-4ac0-bf06-593177e0a61f"
      },
      "execution_count": 89,
      "outputs": [
        {
          "output_type": "execute_result",
          "data": {
            "text/plain": [
              "array([[15.76746832]])"
            ]
          },
          "metadata": {},
          "execution_count": 89
        }
      ]
    },
    {
      "cell_type": "code",
      "source": [
        "with open('/content/bse.pkl', 'wb') as pickle_file:\n",
        "    pickle.dump(model_bse, pickle_file)"
      ],
      "metadata": {
        "id": "AxG6zXnvUXas"
      },
      "execution_count": 90,
      "outputs": []
    },
    {
      "cell_type": "code",
      "source": [],
      "metadata": {
        "id": "4SI1Li-9Vjmj"
      },
      "execution_count": null,
      "outputs": []
    }
  ]
}